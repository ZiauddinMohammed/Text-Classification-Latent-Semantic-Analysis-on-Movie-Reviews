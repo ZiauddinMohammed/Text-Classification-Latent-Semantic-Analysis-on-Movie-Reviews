{
  "nbformat": 4,
  "nbformat_minor": 0,
  "metadata": {
    "colab": {
      "name": "Natural Language Processing.ipynb",
      "version": "0.3.2",
      "provenance": [],
      "include_colab_link": true
    },
    "language_info": {
      "codemirror_mode": {
        "name": "ipython",
        "version": 3
      },
      "file_extension": ".py",
      "mimetype": "text/x-python",
      "name": "python",
      "nbconvert_exporter": "python",
      "pygments_lexer": "ipython3",
      "version": "3.6.3"
    },
    "kernelspec": {
      "display_name": "Python 3",
      "language": "python",
      "name": "python3"
    }
  },
  "cells": [
    {
      "cell_type": "markdown",
      "metadata": {
        "id": "view-in-github",
        "colab_type": "text"
      },
      "source": [
        "<a href=\"https://colab.research.google.com/github/ZiauddinMohammed/Text-Classification-Latent-Semantic-Analysis-on-Movie-Reviews/blob/master/Natural_Language_Processing.ipynb\" target=\"_parent\"><img src=\"https://colab.research.google.com/assets/colab-badge.svg\" alt=\"Open In Colab\"/></a>"
      ]
    },
    {
      "metadata": {
        "id": "U8xlRlOu3r7n",
        "colab_type": "text"
      },
      "cell_type": "markdown",
      "source": [
        "# Spam Detection"
      ]
    },
    {
      "metadata": {
        "id": "5v0qcWzS3r7q",
        "colab_type": "code",
        "colab": {},
        "outputId": "5b80d81a-f6ae-468e-8307-c96f2ba9636c"
      },
      "cell_type": "code",
      "source": [
        "import pandas as pd\n",
        "import numpy as np\n",
        "from sklearn.naive_bayes import MultinomialNB\n",
        "from sklearn.ensemble import AdaBoostClassifier\n",
        "\n",
        "data=pd.read_csv(\"E:/NLP/spambase/spambase.data\").as_matrix()\n",
        "np.random.shuffle(data)\n",
        "\n",
        "X=data[:,:48]\n",
        "Y=data[:,-1]\n",
        "\n",
        "Xtrain=X[:-100,]\n",
        "Ytrain=Y[:-100,]\n",
        "\n",
        "Xtest=X[-100:,]\n",
        "Ytest=Y[-100:,]\n",
        "\n",
        "model=MultinomialNB()\n",
        "model.fit(Xtrain,Ytrain)\n",
        "print(\"Classification rate for NB is :: \",model.score(Xtest,Ytest))\n",
        "#print(\"Prediction rate for NB is :: \",model.predict(\"good\"))\n",
        "#model=AdaBoostClassifier()\n",
        "#model.fit(Xtrain,Ytrain)\n",
        "#print(\"Classification rate for AdaBoost is :: \",model.score(Xtest,Ytest))\n"
      ],
      "execution_count": 0,
      "outputs": [
        {
          "output_type": "stream",
          "text": [
            "Classification rate for NB is ::  0.86\n"
          ],
          "name": "stdout"
        }
      ]
    },
    {
      "metadata": {
        "id": "byLethvr3r7y",
        "colab_type": "text"
      },
      "cell_type": "markdown",
      "source": [
        "# Text Classification"
      ]
    },
    {
      "metadata": {
        "id": "TjaMmoNd3r7z",
        "colab_type": "code",
        "colab": {},
        "outputId": "7a6bb64a-7a96-4042-ca6e-765b0fa804e8"
      },
      "cell_type": "code",
      "source": [
        "import os\n",
        "import numpy as np\n",
        "from nltk.corpus import stopwords \n",
        "from nltk.tokenize import word_tokenize\n",
        "from nltk.stem import WordNetLemmatizer\n",
        "from sklearn.linear_model import LogisticRegression\n",
        "\n",
        "word_lemmatizer=WordNetLemmatizer()\n",
        "stop_words=set(stopwords.words('english'))\n",
        "\n",
        "positive_reviews=[]\n",
        "negative_reviews=[] \n",
        "\n",
        "def read_Posfiles(list_of_files):\n",
        "    for file in list_of_files:\n",
        "        try:\n",
        "            positive_reviews.append(open(\"E:/NLP/aclImdb/train/pos/\"+file).read())\n",
        "        except:\n",
        "            pass\n",
        "def read_Negfiles(list_of_files):\n",
        "    for file in list_of_files:\n",
        "        try:\n",
        "            negative_reviews.append(open(\"E:/NLP/aclImdb/train/neg/\"+file).read())\n",
        "        except:\n",
        "            pass\n",
        "                  \n",
        "files=os.listdir(\"E:/NLP/aclImdb/train/pos\") \n",
        "read_Posfiles(files[:1400])\n",
        "files=os.listdir(\"E:/NLP/aclImdb/train/neg\") \n",
        "read_Negfiles(files[:1400])\n",
        "\n",
        "    \n",
        "#np.random.shuffle(positive_reviews)\n",
        "#np.random.shuffle(negative_reviews)\n",
        "\n",
        "def my_tokenizer(s):\n",
        "    s=s.lower()\n",
        "    tokens=word_tokenize(s)\n",
        "    tokens=[t for t in tokens if len(t)>2]\n",
        "    tokens=[word_lemmatizer.lemmatize(t) for t in tokens]\n",
        "    tokens=[t for t in tokens if t not in stop_words]\n",
        "    return tokens\n",
        "\n",
        "word_index_map={}\n",
        "current_index=0\n",
        "positive_tokens=[]\n",
        "negative_tokens=[]\n",
        "\n",
        "for review in positive_reviews:\n",
        "    tokens=my_tokenizer(review)\n",
        "    positive_tokens.append(tokens)\n",
        "    for token in tokens:\n",
        "        if token not in word_index_map:\n",
        "            word_index_map[token]=current_index\n",
        "            current_index+=1\n",
        "            \n",
        "for review in negative_reviews:\n",
        "    tokens=my_tokenizer(review)\n",
        "    negative_tokens.append(tokens)\n",
        "    for token in tokens:\n",
        "        if token not in word_index_map:\n",
        "            word_index_map[token]=current_index\n",
        "            current_index+=1\n",
        "\n",
        "def tokens_to_vector(tokens,label):\n",
        "    x=np.zeros(len(word_index_map)+1)\n",
        "    for token in tokens:\n",
        "        i=word_index_map[token]\n",
        "        x[i]+=1\n",
        "    x=x/x.sum()\n",
        "    x[-1]=label\n",
        "    return x\n",
        "\n",
        "N=len(positive_tokens)+len(negative_tokens)\n",
        "data=np.zeros((N,len(word_index_map)+1))\n",
        "\n",
        "i=0\n",
        "for token in positive_tokens:\n",
        "    xy=tokens_to_vector(token,1)\n",
        "    data[i,]=xy\n",
        "    i+=1\n",
        "for token in negative_tokens:\n",
        "    xy=tokens_to_vector(token,0)\n",
        "    data[i,]=xy\n",
        "    i+=1\n",
        "    \n",
        "#np.random.shuffle(data)    \n",
        "X=data[:,:-1]\n",
        "Y=data[:,-1]\n",
        "\n",
        "Xtrain=X[:-100,]\n",
        "Ytrain=Y[:-100,]\n",
        "Xtest=X[-100:,]\n",
        "Ytest=Y[-100:,]\n",
        "\n",
        "model=LogisticRegression()\n",
        "model.fit(Xtrain,Ytrain)\n",
        "print(\"Classification Rate of logistic regression is :: \",model.score(Xtest,Ytest))\n",
        "\n",
        "'''threshold=0.5\n",
        "for word,index in word_index_map.items():\n",
        "    weight=model.coef_[0][index]\n",
        "    if weight>threshold or weight<-threshold:\n",
        "        print(word,weight)'''"
      ],
      "execution_count": 0,
      "outputs": [
        {
          "output_type": "stream",
          "text": [
            "Classification Rate of logistic regression is ::  0.5\n"
          ],
          "name": "stdout"
        },
        {
          "output_type": "execute_result",
          "data": {
            "text/plain": [
              "'threshold=0.5\\nfor word,index in word_index_map.items():\\n    weight=model.coef_[0][index]\\n    if weight>threshold or weight<-threshold:\\n        print(word,weight)'"
            ]
          },
          "metadata": {
            "tags": []
          },
          "execution_count": 18
        }
      ]
    },
    {
      "metadata": {
        "id": "zDsry5jt3r79",
        "colab_type": "code",
        "colab": {}
      },
      "cell_type": "code",
      "source": [
        "def tokens_to_vector(tokens):\n",
        "    x=np.zeros(len(word_index_map))\n",
        "    for token in tokens:\n",
        "        if token not in \n",
        "        i=word_index_map[token]\n",
        "        x[i]+=1\n",
        "    x=x/x.sum()\n",
        "    return x\n",
        "\n",
        "\n",
        "yy=tokens_to_vector(token_test)\n",
        "data_test[0,]=yy\n"
      ],
      "execution_count": 0,
      "outputs": []
    },
    {
      "metadata": {
        "id": "hbjPJgFn3r8C",
        "colab_type": "code",
        "colab": {},
        "outputId": "84bb7749-a30d-4cda-feb6-25128122f9e1"
      },
      "cell_type": "code",
      "source": [
        "#print(model.predict())\n",
        "#print(positive_tokens[0]) \n",
        "#Xtrain[0:1,:]\n",
        "s=\"Robert DeNiro plays the most unbelievably intelligent illiterate of all time. This movie is so wasteful of talent, it is truly disgusting. The script is unbelievable. The dialog is unbelievable. Jane Fonda's character is a caricature of herself, and not a funny one. The movie moves at a snail's pace, is photographed in an ill-advised manner, and is insufferably preachy. It also plugs in every cliche in the book. Swoozie Kurtz is excellent in a supporting role, but so what?<br /><br />Equally annoying is this new IMDB rule of requiring ten lines for every review. When a movie is this worthless, it doesn't require ten lines of text to let other readers know that it is a waste of time and tape. Avoid this movie.\"\n",
        "data_test=np.zeros((1,len(word_index_map)))\n",
        "\n",
        "token_test=my_tokenizer(s)\n",
        "\n",
        "print(token_test)\n"
      ],
      "execution_count": 0,
      "outputs": [
        {
          "output_type": "stream",
          "text": [
            "['robert', 'deniro', 'play', 'unbelievably', 'intelligent', 'illiterate', 'time', 'movie', 'wasteful', 'talent', 'truly', 'disgusting', 'script', 'unbelievable', 'dialog', 'unbelievable', 'jane', 'fonda', 'character', 'caricature', 'funny', 'one', 'movie', 'move', 'snail', 'pace', 'photographed', 'ill-advised', 'manner', 'insufferably', 'preachy', 'also', 'plug', 'every', 'cliche', 'book', 'swoozie', 'kurtz', 'excellent', 'supporting', 'role', 'equally', 'annoying', 'new', 'imdb', 'rule', 'requiring', 'ten', 'line', 'every', 'review', 'movie', 'worthless', 'doe', \"n't\", 'require', 'ten', 'line', 'text', 'let', 'reader', 'know', 'waste', 'time', 'tape', 'avoid', 'movie']\n"
          ],
          "name": "stdout"
        }
      ]
    },
    {
      "metadata": {
        "id": "eeQedcCU3r8G",
        "colab_type": "text"
      },
      "cell_type": "markdown",
      "source": [
        "# Latent Semantic Analysis"
      ]
    },
    {
      "metadata": {
        "id": "1bCAKDAj3r8H",
        "colab_type": "code",
        "colab": {},
        "outputId": "049b8108-97e1-488d-cbbd-e0726c9bf994"
      },
      "cell_type": "code",
      "source": [
        "import nltk\n",
        "import numpy as np\n",
        "import matplotlib.pyplot as plt\n",
        "from nltk.stem import WordNetLemmatizer\n",
        "from sklearn.decomposition import TruncatedSVD\n",
        "from nltk.corpus import stopwords\n",
        "\n",
        "wordnet_lemmatizer = WordNetLemmatizer()\n",
        "\n",
        "titles = [line.rstrip() for line in open('E:/NLP/all_book_titles.txt')]\n",
        "\n",
        "# copy tokenizer from sentiment example\n",
        "stopwords = set(stopwords.words('english'))\n",
        "\n",
        "# note: an alternative source of stopwords\n",
        "# from nltk.corpus import stopwords\n",
        "# stopwords.words('english')\n",
        "\n",
        "# add more stopwords specific to this problem\n",
        "stopwords = stopwords.union({\n",
        "    'introduction', 'edition', 'series', 'application',\n",
        "    'approach', 'card', 'access', 'package', 'plus', 'etext',\n",
        "    'brief', 'vol', 'fundamental', 'guide', 'essential', 'printed',\n",
        "    'third', 'second', 'fourth', })\n",
        "def my_tokenizer(s):\n",
        "    s = s.lower() # downcase\n",
        "    tokens = nltk.tokenize.word_tokenize(s) # split string into words (tokens)\n",
        "    tokens = [t for t in tokens if len(t) > 2] # remove short words, they're probably not useful\n",
        "    tokens = [wordnet_lemmatizer.lemmatize(t) for t in tokens] # put words into base form\n",
        "    tokens = [t for t in tokens if t not in stopwords] # remove stopwords\n",
        "    tokens = [t for t in tokens if not any(c.isdigit() for c in t)] # remove any digits, i.e. \"3rd edition\"\n",
        "    return tokens\n",
        "\n",
        "\n",
        "# create a word-to-index map so that we can create our word-frequency vectors later\n",
        "# let's also save the tokenized versions so we don't have to tokenize again later\n",
        "word_index_map = {}\n",
        "current_index = 0\n",
        "all_tokens = []\n",
        "all_titles = []\n",
        "index_word_map = []\n",
        "error_count = 0\n",
        "for title in titles:\n",
        "    try:\n",
        "        title = title.encode('ascii', 'ignore').decode('utf-8') # this will throw exception if bad characters\n",
        "        all_titles.append(title)\n",
        "        tokens = my_tokenizer(title)\n",
        "        all_tokens.append(tokens)\n",
        "        for token in tokens:\n",
        "            if token not in word_index_map:\n",
        "                word_index_map[token] = current_index\n",
        "                current_index += 1\n",
        "                index_word_map.append(token)\n",
        "    except Exception as e:\n",
        "        print(e)\n",
        "        print(title)\n",
        "        error_count += 1\n",
        "\n",
        "\n",
        "print(\"Number of errors parsing file:\", error_count, \"number of lines in file:\", len(titles))\n",
        "if error_count == len(titles):\n",
        "    print(\"There is no data to do anything with! Quitting...\")\n",
        "    exit()\n",
        "\n",
        "\n",
        "# now let's create our input matrices - just indicator variables for this example - works better than proportions\n",
        "def tokens_to_vector(tokens):\n",
        "    x = np.zeros(len(word_index_map))\n",
        "    for t in tokens:\n",
        "        i = word_index_map[t]\n",
        "        x[i] = 1\n",
        "    return x\n",
        "\n",
        "N = len(all_tokens)\n",
        "D = len(word_index_map)\n",
        "X = np.zeros((D, N)) # terms will go along rows, documents along columns\n",
        "i = 0\n",
        "for tokens in all_tokens:\n",
        "    X[:,i] = tokens_to_vector(tokens)\n",
        "    i += 1\n",
        "\n",
        "\n",
        "svd = TruncatedSVD()\n",
        "Z = svd.fit_transform(X)\n",
        "plt.scatter(Z[:,0], Z[:,1])\n",
        "for i in range(D):\n",
        "    plt.annotate(s=index_word_map[i], xy=(Z[i,0], Z[i,1]))\n",
        "plt.show()\n"
      ],
      "execution_count": 0,
      "outputs": [
        {
          "output_type": "stream",
          "text": [
            "Number of errors parsing file: 0 number of lines in file: 2373\n"
          ],
          "name": "stdout"
        },
        {
          "output_type": "display_data",
          "data": {
            "image/png": "[encoded data removed]",
            "text/plain": [
              "<matplotlib.figure.Figure at 0x23e546c8d30>"
            ]
          },
          "metadata": {
            "tags": []
          }
        }
      ]
    }
  ]
}